{
  "nbformat": 4,
  "nbformat_minor": 0,
  "metadata": {
    "colab": {
      "name": "Ejercicio_1",
      "provenance": [],
      "collapsed_sections": []
    },
    "kernelspec": {
      "name": "python3",
      "display_name": "Python 3"
    }
  },
  "cells": [
    {
      "cell_type": "code",
      "metadata": {
        "id": "tuwmqHNdpFIu",
        "outputId": "5b69b30e-6786-4950-fc1b-85177123e515",
        "colab": {
          "base_uri": "https://localhost:8080/"
        }
      },
      "source": [
        "print(\"Programa 1\")\n",
        "z=0\n",
        "z=int(input(\"Ingrese un numero entero mayor que cero:\"))\n",
        "print(\"El numero que ingreso es\",z)\n",
        "if z <= 0:\n",
        "  print (\"Numero invalido\")\n",
        "elif z % 2 == 0:\n",
        "  print(\"Este numero es par\")\n",
        "else:\n",
        "    print(\"Numero impar\")"
      ],
      "execution_count": 48,
      "outputs": [
        {
          "output_type": "stream",
          "text": [
            "Programa 1\n",
            "Ingrese un numero entero mayor que cero:6\n",
            "El numero que ingreso es 6\n",
            "Este numero es par\n"
          ],
          "name": "stdout"
        }
      ]
    }
  ]
}