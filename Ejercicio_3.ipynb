{
  "nbformat": 4,
  "nbformat_minor": 0,
  "metadata": {
    "colab": {
      "name": "Ejercicio_3.ipynb",
      "provenance": []
    },
    "kernelspec": {
      "name": "python3",
      "display_name": "Python 3"
    }
  },
  "cells": [
    {
      "cell_type": "code",
      "metadata": {
        "id": "LpoY1rToFVVi",
        "outputId": "daf310d2-52ff-41bd-c267-5140fee45bdc",
        "colab": {
          "base_uri": "https://localhost:8080/"
        }
      },
      "source": [
        "def func(a,b):\n",
        "  x=a*b\n",
        "  print(\"Por un dia laboral de 8 horas tu pago es:\",x)\n",
        "  y=a*b*5\n",
        "  print(\"Por una semana laboral tu pago es:\",y)\n",
        "  z=a*b*20\n",
        "  print(\"Por un mes laboral tu pago es:\",z)\n",
        "  \n",
        " \n",
        "print(\"Programa 3\")\n",
        "a=int(input(\"Introduce numero de horas:\"))\n",
        "b=150\n",
        "b=int(input(\"Introduce costo por hora:\"))\n",
        "func(a,b)"
      ],
      "execution_count": 1,
      "outputs": [
        {
          "output_type": "stream",
          "text": [
            "Programa 3\n",
            "Introduce numero de horas:6\n",
            "Introduce costo por hora:150\n",
            "Por un dia laboral de 8 horas tu pago es: 900\n",
            "Por una semana laboral tu pago es: 4500\n",
            "Por un mes laboral tu pago es: 18000\n"
          ],
          "name": "stdout"
        }
      ]
    }
  ]
}