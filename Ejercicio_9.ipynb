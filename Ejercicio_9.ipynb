{
  "nbformat": 4,
  "nbformat_minor": 0,
  "metadata": {
    "colab": {
      "name": "Ejercicio_9.ipynb",
      "provenance": []
    },
    "kernelspec": {
      "name": "python3",
      "display_name": "Python 3"
    }
  },
  "cells": [
    {
      "cell_type": "code",
      "metadata": {
        "id": "Mv8U9R-TGvxm"
      },
      "source": [
        "print(\"Programa 9\")\n",
        "n=int(input(\"Ingrese un numero entero mayor que cero:\"))\n",
        "f=1\n",
        "for i in range(n):\n",
        "  f=f*n\n",
        "  n-=1\n",
        "  print(\"El factorial n es:\",f)"
      ],
      "execution_count": null,
      "outputs": []
    }
  ]
}