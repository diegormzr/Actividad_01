{
  "nbformat": 4,
  "nbformat_minor": 0,
  "metadata": {
    "colab": {
      "name": "Ejercicio_2.ipynb",
      "provenance": []
    },
    "kernelspec": {
      "name": "python3",
      "display_name": "Python 3"
    }
  },
  "cells": [
    {
      "cell_type": "code",
      "metadata": {
        "id": "Kt_FWWESFThZ",
        "outputId": "572667db-1752-40e3-9cff-960ebb0ddf9d",
        "colab": {
          "base_uri": "https://localhost:8080/"
        }
      },
      "source": [
        "print(\"Programa 2\")\n",
        "a=int(input(\"Ingrese un numero entero mayor que cero:\"))\n",
        "z=input(\"Introduzca texto a repetir:\")\n",
        "c=0\n",
        "while c<=a:\n",
        "  c=c+1\n",
        "  print(z)\n",
        "  "
      ],
      "execution_count": 1,
      "outputs": [
        {
          "output_type": "stream",
          "text": [
            "Programa 2\n",
            "Ingrese un numero entero mayor que cero:4\n",
            "Introduzca texto a repetir:asdf\n",
            "asdf\n",
            "asdf\n",
            "asdf\n",
            "asdf\n",
            "asdf\n"
          ],
          "name": "stdout"
        }
      ]
    }
  ]
}