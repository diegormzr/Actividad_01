{
  "nbformat": 4,
  "nbformat_minor": 0,
  "metadata": {
    "colab": {
      "name": "Ejercicio_10.ipynb",
      "provenance": []
    },
    "kernelspec": {
      "name": "python3",
      "display_name": "Python 3"
    }
  },
  "cells": [
    {
      "cell_type": "code",
      "metadata": {
        "id": "-rH2--siGxK8"
      },
      "source": [
        "print(\"Programa 10\")\n",
        "print(\"Ingrese el radio del circulo:\")\n",
        "r=float(input())\n",
        "pi=3.1416\n",
        "a=(pi*(r**2))\n",
        "print(\"El area del circulo es:\",a)\n",
        "h=float(input(\"Ingrese altura del cilindro:\"))\n",
        "v=a*h\n",
        "print(\"El volumes es:\",v)\n",
        "\n"
      ],
      "execution_count": null,
      "outputs": []
    }
  ]
}