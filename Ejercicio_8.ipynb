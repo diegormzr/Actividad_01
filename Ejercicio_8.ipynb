{
  "nbformat": 4,
  "nbformat_minor": 0,
  "metadata": {
    "colab": {
      "name": "Ejercicio_8.ipynb",
      "provenance": [],
      "collapsed_sections": []
    },
    "kernelspec": {
      "name": "python3",
      "display_name": "Python 3"
    }
  },
  "cells": [
    {
      "cell_type": "code",
      "metadata": {
        "id": "Q_wg5_ZjGWSw"
      },
      "source": [
        "print(\"Programa 8\")\n",
        "z = int(input(\"Ingrese numero entero: \"))\n",
        "\n",
        "for i in range(0, z + 1, 1):\n",
        "    for j in range(i):\n",
        "        print(\"* \", end=\"\")\n",
        "    print(\"\")"
      ],
      "execution_count": null,
      "outputs": []
    }
  ]
}