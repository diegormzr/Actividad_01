{
  "nbformat": 4,
  "nbformat_minor": 0,
  "metadata": {
    "colab": {
      "name": "Ejercicio_5.ipynb",
      "provenance": []
    },
    "kernelspec": {
      "name": "python3",
      "display_name": "Python 3"
    }
  },
  "cells": [
    {
      "cell_type": "code",
      "metadata": {
        "id": "j_PtfeXBHp36",
        "outputId": "c405d8e8-767f-4fc1-ddf4-2ea41bdf1152",
        "colab": {
          "base_uri": "https://localhost:8080/"
        }
      },
      "source": [
        "print(\"Programa 5\")\n",
        "pa=150\n",
        "j=170\n",
        "T=10000\n",
        "while T>10000:\n",
        "  print(\"Ingrese cantidad de payasos:\")\n",
        "  p=int(input())\n",
        "  print(\"Ingrese la cantidad de juegos de mesa:\")\n",
        "  jm=int(input())\n",
        "  T=(((pa*p)+(j*jm)))\n",
        "  print(\"El peso de los jugetes es:\",T)\n",
        "  if T>=10000:\n",
        "    print(T<10000)\n",
        "    R=print(\"El pedido se paso con\",T-10000,\"gr\")"
      ],
      "execution_count": 1,
      "outputs": [
        {
          "output_type": "stream",
          "text": [
            "Programa 5\n"
          ],
          "name": "stdout"
        }
      ]
    }
  ]
}